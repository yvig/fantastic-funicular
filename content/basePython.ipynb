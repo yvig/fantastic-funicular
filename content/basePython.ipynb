{
 "cells": [
  {
   "cell_type": "markdown",
   "metadata": {},
   "source": [
    "from math import sqrt"
   ]
  },
  {
   "cell_type": "markdown",
   "metadata": {},
   "source": [
    "\n",
    "\n",
    "# Section 1 Valeurs, variables en Python: \n",
    "\n",
    "## Section 1.1 Calculs\n",
    "On peut calculer avec Python:\n",
    "\n"
   ]
  },
  {
   "cell_type": "code",
   "execution_count": null,
   "metadata": {},
   "outputs": [],
   "source": [
    "print(5 + 3)\n",
    "# attention à la priorité des opérateurs\n",
    "# *, / plus prioritaires que +, -\n",
    "print(\"5 + 3 * 4 =\", 5 + 3 * 4)\n",
    "print(\"(5 + 3) * 4 =\",(5 + 3) * 4)\n",
    "# les opérateurs sont associatifs à gauche :\n",
    "print(\"5-3-4=\",5-3-4)\n",
    "print(\"5-(3-4)=\",5-(3-4))\n",
    "# division et division entière\n",
    "print(20/3)\n",
    "print(20//3)"
   ]
  },
  {
   "cell_type": "markdown",
   "metadata": {},
   "source": [
    "## Section 1.2 Données et variables\n",
    "\n",
    "Pour utiliser et accéder aux données, un programme fait usage de variables. \n",
    "\n",
    "Un nom de variable respecte la syntaxe suivante: \n",
    "- commence par une lettre\n",
    "- ne contient que des lettres et des chiffres et le caractère _.\n",
    "\n",
    "Python \n",
    "- est sensible à la casse.\n",
    "- a des mots clé réservés.\n",
    "\n",
    "*Convention:* nommer les variables avec des lettres minuscules.\n",
    "\n",
    "**Affectation :** établit le lien entre le nom de la variable et sa valeur.\n",
    "Syntaxe: nom_variable = expression\n"
   ]
  },
  {
   "cell_type": "code",
   "execution_count": null,
   "metadata": {},
   "outputs": [],
   "source": [
    "x = 7\n",
    "msg = \"Bonjour, quoi de neuf?\"\n",
    "pi = 3.14159\n",
    "\n",
    "# afficher la valeur d'une variable\n",
    "print(x)\n",
    "print(msg)\n",
    "print(pi)\n",
    "msg\n"
   ]
  },
  {
   "cell_type": "markdown",
   "metadata": {},
   "source": [
    "## Section 1.3 \n",
    "Typage dynamique des variables : le type de la variable lui est assigné après l'affectation.\n",
    "On peut obtenir le type d'une variable.\n",
    "\n",
    "- permet d'écrire plus facilement des costructions logiques de niveau élevé (par ex. dans le contexte de l'orienté objet avec du polymorphisme). \n",
    "- facilite l'utilisation de structures de données telles que les listes et les dictionnaires."
   ]
  },
  {
   "cell_type": "code",
   "execution_count": null,
   "metadata": {
    "scrolled": true
   },
   "outputs": [],
   "source": [
    "x=8\n",
    "print(type(x))\n",
    "print(type(msg))\n",
    "print(type(pi))\n",
    "type(msg)"
   ]
  },
  {
   "cell_type": "markdown",
   "metadata": {},
   "source": [
    "**Affectations multiples, affectations parallèles:**\n",
    "quelques exemples:"
   ]
  },
  {
   "cell_type": "code",
   "execution_count": null,
   "metadata": {
    "scrolled": false
   },
   "outputs": [],
   "source": [
    "x = y = 9\n",
    "print(x, y)\n",
    "a, b = 4, 8.33\n",
    "print(a, b)"
   ]
  },
  {
   "cell_type": "markdown",
   "metadata": {},
   "source": [
    "**Attention** l'affectation n'est pas commutative :\n",
    "l'instruction 20=a n'est pas syntaxiquement légale."
   ]
  },
  {
   "cell_type": "markdown",
   "metadata": {},
   "source": [
    "**Exercice 1 :**\n",
    "Assignez les valeurs respectives 3, 5, 7 à trois variables a, b, c.\n",
    "Effectuez l’opération a - b//c. Interprétez le résultat obtenu."
   ]
  },
  {
   "cell_type": "code",
   "execution_count": null,
   "metadata": {},
   "outputs": [],
   "source": [
    "pass"
   ]
  },
  {
   "cell_type": "markdown",
   "metadata": {},
   "source": [
    "**Exercice 2 :**\n",
    "Supposons que la variable a contient la valeur 3 et la variable b contient la valeur 5. Ecrire l'instruction qui échange les valeurs de a et de b."
   ]
  },
  {
   "cell_type": "code",
   "execution_count": null,
   "metadata": {},
   "outputs": [],
   "source": [
    "pass"
   ]
  },
  {
   "cell_type": "markdown",
   "metadata": {},
   "source": [
    "# Section 2 : Instructions \n",
    "\n",
    "3 structures de contrôle :\n",
    "- la séquence : \n",
    "   les instructions s'exécutent dans l'ordre où elles sont écrites!\n",
    "- la sélection :\n",
    "exécution conditionnelle \n",
    "- la répétition\n",
    "itération de boucle.\n"
   ]
  },
  {
   "cell_type": "markdown",
   "metadata": {},
   "source": [
    "## Section 2.1 L'instruction conditionnelle\n",
    "teste une certaine condition et modifie le comportement du programme en conséquence.\n"
   ]
  },
  {
   "cell_type": "code",
   "execution_count": null,
   "metadata": {
    "scrolled": true
   },
   "outputs": [],
   "source": [
    "a = 150\n",
    "if a > 100:\n",
    "    print(\"a dépasse la centaine\")"
   ]
  },
  {
   "cell_type": "code",
   "execution_count": null,
   "metadata": {},
   "outputs": [],
   "source": [
    "a = 20\n",
    "if a > 100:\n",
    "    print(\"a dépasse la centaine\")\n",
    "else: \n",
    "    print(\"a ne dépasse 100\")"
   ]
  },
  {
   "cell_type": "markdown",
   "metadata": {},
   "source": [
    "- conditions imbriquées:"
   ]
  },
  {
   "cell_type": "code",
   "execution_count": null,
   "metadata": {},
   "outputs": [],
   "source": [
    "if a==0:\n",
    "    print(\"a est null\")\n",
    "elif a > 0:\n",
    "    print(\"a est positif\")\n",
    "else:\n",
    "    print(\"a est négatif\")"
   ]
  },
  {
   "cell_type": "markdown",
   "metadata": {},
   "source": [
    "**Opérateurs de comparaison**\n",
    "- x == y     : test d'égalité\n",
    "- x != y     : différent\n",
    "- x > y      : supérieur\n",
    "- x >= y     : supérieur ou égal\n",
    "- x < y      : inférieur\n",
    "- x <= y     : inférieur ou égal\n"
   ]
  },
  {
   "cell_type": "code",
   "execution_count": null,
   "metadata": {},
   "outputs": [],
   "source": [
    "if a%2 == 0:\n",
    "    print(a, \"est pair.\")\n",
    "else:\n",
    "    print(a, \"est impair.\")"
   ]
  },
  {
   "cell_type": "code",
   "execution_count": null,
   "metadata": {},
   "outputs": [],
   "source": [
    "a=151\n",
    "if a%2 == 0:\n",
    "    if a < 100:\n",
    "        print(a, \"est pair et plus petit que 100\")\n",
    "    else:\n",
    "        print(a, \"est pair et plus grand que 100\")\n",
    "else:\n",
    "    if a < 100:\n",
    "        print(a, \"est impair et plus petit que 100\")\n",
    "    else:\n",
    "        print(a, \"est impair et plus grand que 100\")\n",
    "  \n",
    "# Une autre façon d'écrire :\n",
    "if a%2 == 0 and a < 100:\n",
    "    print(a, \"est pair et plus petit que 100\")\n",
    "elif a%2 == 0 and a >= 100:\n",
    "    print(a, \"est pair et plus grand que 100\")  \n",
    "elif a < 100:\n",
    "    print(a, \"est impair et plus petit que 100\")\n",
    "else:\n",
    "    print(a, \"est impair et plus grand que 100\")\n",
    "    "
   ]
  },
  {
   "cell_type": "markdown",
   "metadata": {},
   "source": [
    "## Section 2.2 L'instruction répétitive\n",
    "**La boucle while** : \n",
    "- répète continuellement un bloc d'instructions tant que la condition est vraie.\n",
    "- si la condition est fausse au départ, le bloc d'instructions n'est jamais exécuté.\n",
    "- si la condition est toujours vraie, le bloc d'instructions est répété indéfiniment, (tant que Python fonctionne) $\\rightarrow$  attention à ne pas boucler!"
   ]
  },
  {
   "cell_type": "code",
   "execution_count": null,
   "metadata": {},
   "outputs": [],
   "source": [
    "a=0\n",
    "while a<7:\n",
    "    a=a+1\n",
    "    print(a, a*a, a**3)"
   ]
  },
  {
   "cell_type": "markdown",
   "metadata": {},
   "source": [
    "**Exercice 3 :**\n",
    "Ecrire une suite d'instructions qui calcule et affiche les premiers termes de la suite de Fibonacci jusqu'à l'ordre 10.\n",
    "*Rappel*: Fibonacci(0)=0, Fibonacci(1)=1, \n",
    "n > 1, Fibonacci(n) = Fibonacci(n-1) + Fibonacci(n-2)"
   ]
  },
  {
   "cell_type": "code",
   "execution_count": null,
   "metadata": {},
   "outputs": [],
   "source": [
    "pass"
   ]
  },
  {
   "cell_type": "markdown",
   "metadata": {},
   "source": [
    "**Exercice 4 :** Écrire un programme qui affiche les 20 premiers termes de la table de multiplication par 7.\n"
   ]
  },
  {
   "cell_type": "code",
   "execution_count": null,
   "metadata": {
    "scrolled": false
   },
   "outputs": [],
   "source": [
    "pass"
   ]
  },
  {
   "cell_type": "markdown",
   "metadata": {},
   "source": [
    "## Section 3 : Conserver ses programmes\n",
    "- Ecrire son code avec son éditeur de textes préfére, le sauvegarder dans un fichier suffixé par '.py'. \n",
    "L'exécuter avec la commande python3 fichier.py\n",
    "\n",
    "- dans l'environnement jupyter notebook, suffixé par '.ipynb'\n",
    "exécuter avec Ctr-Return ou l'option Exécuter"
   ]
  },
  {
   "cell_type": "markdown",
   "metadata": {},
   "source": [
    "**Exercice 5 :** Écrire un programme qui calcule les 50 premiers termes de la table de multiplication par 13, mais qui n’affiche que ceux qui sont des multiples de 7."
   ]
  },
  {
   "cell_type": "code",
   "execution_count": null,
   "metadata": {
    "scrolled": false
   },
   "outputs": [],
   "source": [
    "pass\n"
   ]
  },
  {
   "cell_type": "markdown",
   "metadata": {},
   "source": [
    "## Section 4 Quelques mots au sujet du type string\n",
    "\n",
    "## Section 4.1 Notions de base\n",
    "- Se délimite par \" \" ou par ' '\n",
    "- À l’intérieur d’une chaîne de caractères, l’antislash (\\) permet d’insérer un certain nombre de codes spéciaux.\n",
    "- \\n dans une chaîne provoque un saut à la ligne.\n",
    "- \\' permet d’insérer une apostrophe dans une chaîne délimitée par des apostrophes.\n",
    "- \\\" permet d’insérer des guillemets dans une chaîne délimitée elle-même par des guillemets.\n",
    "- on peut délimiter la chaîne à l’aide de triples guillemets ou de triples apostrophes, pour insérer plus facilement des caractères spéciaux.\n"
   ]
  },
  {
   "cell_type": "code",
   "execution_count": null,
   "metadata": {
    "scrolled": true
   },
   "outputs": [],
   "source": [
    "Salut = \"Ceci est une chaîne plutôt longue\\n contenant plusieurs lignes \\\n",
    "... de texte (Ceci fonctionne\\n de la même façon en C/C++.\\n\\\n",
    "... Notez que les blancs en début\\n de ligne sont significatifs.\\n\"\n",
    "print(Salut)\n",
    "\n",
    "a1 = \"\"\"\n",
    "... Usage: trucmuche[OPTIONS]\n",
    "... { -h\n",
    "... -H hôte\n",
    "... }\"\"\"\n",
    "print(a1)"
   ]
  },
  {
   "cell_type": "markdown",
   "metadata": {},
   "source": [
    "## Section 4.2 : Accès aux caractères d'une chaîne \n",
    "- Chaque caractère d'une chaîne est désigné par sa place dans la séquence, à l’aide d’un index.\n",
    "- Les caractères sont indicés à partir de 0."
   ]
  },
  {
   "cell_type": "code",
   "execution_count": null,
   "metadata": {
    "scrolled": true
   },
   "outputs": [],
   "source": [
    "s=\"Il fait beau!\"\n",
    "print(s[0], s[8])\n",
    "# Longueur d'une chaîne\n",
    "print(len(s))\n",
    "for i in range(len(s)):\n",
    "    print(s[i], end=\"\")\n",
    "print('\\n')\n",
    "# Ou plus simple :\n",
    "print(s)\n",
    "# On peut concaténer des chaînes :\n",
    "print(\"Le temps \" + \"des cerises\")"
   ]
  },
  {
   "cell_type": "markdown",
   "metadata": {},
   "source": [
    "**Exercice 6 :** Écrire un script qui compte le nombre d’occurrences du caractère « e » dans une chaîne."
   ]
  },
  {
   "cell_type": "code",
   "execution_count": null,
   "metadata": {},
   "outputs": [],
   "source": [
    "s='Le temps des cerises.'\n",
    "pass"
   ]
  },
  {
   "cell_type": "markdown",
   "metadata": {},
   "source": [
    "**Exercice 7 :** Écrire un script qui recopie une chaîne (dans une nouvelle variable) en l’inversant."
   ]
  },
  {
   "cell_type": "code",
   "execution_count": null,
   "metadata": {},
   "outputs": [],
   "source": [
    "s='Le temps des cerises.'\n",
    "pass\n",
    "    "
   ]
  },
  {
   "cell_type": "markdown",
   "metadata": {},
   "source": [
    "## Section 5 : Les listes\n",
    "- Structure de données utilisée pour regrouper de manière structurée des ensembles de valeurs.\n",
    "- Dans une liste, les éléments sont séparés par des virgules.\n",
    "- Les éléments individuels qui constituent une liste peuvent être de types variés.\n",
    "- Il est possible de modifier certaines valeurs d'une liste."
   ]
  },
  {
   "cell_type": "code",
   "execution_count": null,
   "metadata": {},
   "outputs": [],
   "source": [
    "jour = ['lundi', 'mardi', 'mercredi', 1800, 20.357, 'jeudi', 'vendredi']\n",
    "print(jour[2])\n",
    "print(jour[4])\n",
    "jour[3] = jour[3] +47\n",
    "print(jour)\n",
    "print(len(jour))\n",
    "# supprimer d'une liste un élément quelconque\n",
    "del(jour[4])\n",
    "print(jour)\n",
    "jour.append('samedi')\n",
    "print(jour)"
   ]
  },
  {
   "cell_type": "markdown",
   "metadata": {},
   "source": [
    "**Exercice 8 :** Écrire un programme qui recherche le plus grand élément présent dans une liste donnée. Par exemple, si on l’appliquait à la liste [32, 5, 12, 8, 3, 75, 2, 15], ce\n",
    "programme devrait afficher :\n",
    "le plus grand élément de cette liste a la valeur 75."
   ]
  },
  {
   "cell_type": "code",
   "execution_count": null,
   "metadata": {},
   "outputs": [],
   "source": [
    "l=[32, 5, 12, 8, 3, 75, 2, 15]\n",
    "pass\n",
    "    "
   ]
  },
  {
   "cell_type": "markdown",
   "metadata": {},
   "source": [
    "**Exercice 9 :** Écrire un programme qui analyse un par un tous les éléments d’une liste de nombres pour générer deux nouvelles listes. L’une contiendra seulement les nombres pairs de la liste initiale, et l’autre les nombres impairs."
   ]
  },
  {
   "cell_type": "code",
   "execution_count": null,
   "metadata": {},
   "outputs": [],
   "source": [
    "l=[32, 5, 12, 8, 3, 75, 2, 15]\n",
    "pass\n"
   ]
  },
  {
   "cell_type": "markdown",
   "metadata": {},
   "source": [
    "## Section 6 : Les fonctions prédéfinies\n",
    "- La fonction d'affichage : print()\n",
    "- La fonction de lecture : input()\n",
    "  **Attention!** input() renvoie une chaîne de caractères.\n",
    "- On peut importer un module de fonctions, avec l'instruction import"
   ]
  },
  {
   "cell_type": "code",
   "execution_count": null,
   "metadata": {},
   "outputs": [],
   "source": [
    "print(\"Bonjour\",\"à\",\"tous\", sep=\"*\")\n",
    "print(\"Bonjour\", \"à\", \"tous\")\n",
    "prenom = input(\"Entrez votre prénom : \")\n",
    "print(\"Bonjour,\", prenom)\n",
    "\n",
    "print(\"Entrer un nombre positif : \", end=\" \")\n",
    "ch = input()\n",
    "nn = int(ch) # conversion de la chaîne en un nombre entier\n",
    "print(\"Le carré de\", nn, \"vaut\", nn**2)\n",
    "\n",
    "from math import sqrt  # ou import * si on veut importer tout le module\n",
    "nombre = 121\n",
    "print(\"racine carrée de\", nombre, \"=\", sqrt(nombre))"
   ]
  },
  {
   "cell_type": "markdown",
   "metadata": {},
   "source": [
    "**Exercice 10 :** Écrire un programme qui encode des valeurs dans une liste. Ce programme fonctionne en boucle, l’utilisateur étant invité à entrer sans cesse de nouvelles valeurs, jusqu’à ce qu’il décide de terminer en frappant <Enter> en guise d’entrée.\n",
    "Le programme se termine alors par l’affichage de la liste. Exemple de fonctionnement :\n",
    "Entrer une valeur : 25\n",
    "Entrer une valeur : 18\n",
    "Entrer une valeur : 6284\n",
    "Entrer une valeur :\n",
    "[25, 18, 6284]"
   ]
  },
  {
   "cell_type": "code",
   "execution_count": null,
   "metadata": {},
   "outputs": [],
   "source": [
    "pass"
   ]
  },
  {
   "cell_type": "markdown",
   "metadata": {},
   "source": [
    "**Exercice 11 :** Écrire un script qui affiche le plus grand de trois nombres en indiquant son rang. \n",
    "NB: utiliser l'association des fonctions eval() et list() qui permet de convertir\n",
    "en liste toute chaîne de valeurs séparées par des virgules"
   ]
  },
  {
   "cell_type": "code",
   "execution_count": null,
   "metadata": {},
   "outputs": [],
   "source": [
    "pass"
   ]
  },
  {
   "cell_type": "markdown",
   "metadata": {},
   "source": [
    "## Section 6 : Les fonctions utilisateur\n",
    "## Section 6.1 : Généralités\n",
    "- avec la syntaxe :\n",
    "def nomFonction(liste de paramètres): # éventuellement vide\n",
    "    ...\n",
    "    bloc d'instructions\n",
    "    ...\n",
    "- n'importe quel nom de fonction, excepté celui des mots réservés de Python.\n",
    "- dans le profil de la fonction, les paramètres sont dits *formels*. \n",
    "- La fonction est appelée avec des paramètres *effectifs* (ou arguments)."
   ]
  },
  {
   "cell_type": "code",
   "execution_count": null,
   "metadata": {},
   "outputs": [],
   "source": [
    "def table(base):\n",
    "    n=1\n",
    "    while n<11:\n",
    "        print(n*base, end='')\n",
    "        n=n+1\n",
    "    print('\\n')\n",
    "\n",
    "a=13\n",
    "table(a)\n",
    "a=7\n",
    "table(a)"
   ]
  },
  {
   "cell_type": "code",
   "execution_count": null,
   "metadata": {},
   "outputs": [],
   "source": [
    "Une fonction peut avoir plusieurs paramètres:"
   ]
  },
  {
   "cell_type": "code",
   "execution_count": null,
   "metadata": {},
   "outputs": [],
   "source": [
    "def tableMulti(base, debut, fin):\n",
    "    print('Fragment de la table de multiplication par', base, ':')\n",
    "    n = debut\n",
    "    while n <= fin:\n",
    "        print(n, 'x', base, '=', n * base)\n",
    "        n = n+1\n",
    "tableMulti(13, 4, 8)"
   ]
  },
  {
   "cell_type": "markdown",
   "metadata": {},
   "source": [
    "## Section 6.2 : Variables locales, variables globales\n",
    "- Les variables à l’intérieur du corps d’une fonction ne sont accessibles qu’à la fonction elle-même. Elles sont locales à la fonction. \n",
    "- Les variables définies à l’extérieur d’une fonction sont des variables globales. Leur contenu est *visible* de l’intérieur d’une fonction, mais la fonction ne peut pas le modifier."
   ]
  },
  {
   "cell_type": "code",
   "execution_count": null,
   "metadata": {
    "scrolled": true
   },
   "outputs": [],
   "source": [
    "def varLocaleVarGlobale():\n",
    "    p =20\n",
    "    print(p, q)\n",
    "\n",
    "p, q = 15, 38\n",
    "varLocaleVarGlobale()\n",
    "print(p, q)"
   ]
  },
  {
   "cell_type": "markdown",
   "metadata": {},
   "source": [
    "Une fonction peut retourner une valeur. \n",
    "- usuellement, celle qui ne retourne pas de valeur est appelée procédure.\n"
   ]
  },
  {
   "cell_type": "code",
   "execution_count": null,
   "metadata": {},
   "outputs": [],
   "source": [
    "def table(base, debut, fin):\n",
    "    l=[]\n",
    "    n=debut\n",
    "    while n <= fin:\n",
    "        l=l+[n*base]\n",
    "        n=n+1 \n",
    "    return l\n",
    "liste13 = table(13, 4, 8)   # on affecte à la variable liste13 le résultat retourné par table\n",
    "print(liste13)"
   ]
  },
  {
   "cell_type": "markdown",
   "metadata": {},
   "source": [
    "**Exercice 12 :** Définir une fonction *compteCar(c,ch)* qui renvoie le nombre de fois que l’on rencontre le caractère *c* dans la chaîne de caractères *ch*. Par exemple, l’exécution de l’instruction :\n",
    "print(compteCar(’e’, ’Cette phrase est un exemple’)) doit donner le résultat : 7"
   ]
  },
  {
   "cell_type": "code",
   "execution_count": null,
   "metadata": {},
   "outputs": [],
   "source": [
    "def compteCar(c, ch):\n",
    "    pass"
   ]
  },
  {
   "cell_type": "markdown",
   "metadata": {},
   "source": [
    "**Exercice 13 :** Définir une fonction nomMois(n) qui renvoie le nom du n-ième mois de l’année. Par exemple, l’exécution de l’instruction :\n",
    "print(nomMois(4)) doit donner le résultat : Avril."
   ]
  },
  {
   "cell_type": "code",
   "execution_count": null,
   "metadata": {},
   "outputs": [],
   "source": [
    "def nomMois(n):\n",
    "    pass"
   ]
  },
  {
   "cell_type": "markdown",
   "metadata": {},
   "source": [
    "## Section 6.3 : Valeurs par défaut pour les paramètres\n",
    "- Dans la définition d’une fonction, il est possible de définir un argument par défaut pour chacun des paramètres."
   ]
  },
  {
   "cell_type": "code",
   "execution_count": null,
   "metadata": {},
   "outputs": [],
   "source": [
    "def politesse(nom, civilite='Monsieur'):\n",
    "    print(\"Veuillez agréer ,\", civilite, nom, \", mes salutations cordiales.\")\n",
    "    \n",
    "politesse('Dupont')  # on utilise la valeur par défaut\n",
    "\n",
    "politesse('Durand', 'Madame')"
   ]
  },
  {
   "cell_type": "markdown",
   "metadata": {},
   "source": [
    "## Section 6.3 : Arguments avec étiquettes \n",
    "Permet d'appeler une fonction avec des arguments dans un ordre quelconque."
   ]
  },
  {
   "cell_type": "code",
   "execution_count": 4,
   "metadata": {},
   "outputs": [
    {
     "name": "stdout",
     "output_type": "stream",
     "text": [
      "75\n",
      "75\n"
     ]
    }
   ],
   "source": [
    "def eleMax(liste, debut=0):\n",
    "    max=liste[debut]\n",
    "    i=debut+1\n",
    "    while i < len(liste):\n",
    "        if liste[i] > max:\n",
    "            max = liste[i]\n",
    "        i=i+1\n",
    "    return max\n",
    "l=[86, 5, 12, 8, 3, 75, 2, 15]\n",
    "print(eleMax(debut=2,liste=l))\n",
    "print(eleMax(l,2))"
   ]
  },
  {
   "cell_type": "code",
   "execution_count": null,
   "metadata": {},
   "outputs": [],
   "source": []
  }
 ],
 "metadata": {
  "kernelspec": {
   "display_name": "Python 3",
   "language": "python",
   "name": "python3"
  },
  "language_info": {
   "codemirror_mode": {
    "name": "ipython",
    "version": 3
   },
   "file_extension": ".py",
   "mimetype": "text/x-python",
   "name": "python",
   "nbconvert_exporter": "python",
   "pygments_lexer": "ipython3",
   "version": "3.7.1"
  }
 },
 "nbformat": 4,
 "nbformat_minor": 2
}
